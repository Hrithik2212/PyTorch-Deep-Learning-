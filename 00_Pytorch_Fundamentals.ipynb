{
  "nbformat": 4,
  "nbformat_minor": 0,
  "metadata": {
    "colab": {
      "name": "00_Pytorch_Fundamentals.ipynb",
      "provenance": [],
      "toc_visible": true,
      "collapsed_sections": [],
      "authorship_tag": "ABX9TyOAcs9ILyDGcCvDWx3ehx+i",
      "include_colab_link": true
    },
    "kernelspec": {
      "name": "python3",
      "display_name": "Python 3"
    },
    "language_info": {
      "name": "python"
    },
    "gpuClass": "standard",
    "accelerator": "GPU"
  },
  "cells": [
    {
      "cell_type": "markdown",
      "metadata": {
        "id": "view-in-github",
        "colab_type": "text"
      },
      "source": [
        "<a href=\"https://colab.research.google.com/github/Hrithik2212/PyTorch-Deep-Learning-/blob/main/00_Pytorch_Fundamentals.ipynb\" target=\"_parent\"><img src=\"https://colab.research.google.com/assets/colab-badge.svg\" alt=\"Open In Colab\"/></a>"
      ]
    },
    {
      "cell_type": "markdown",
      "source": [
        "# Pytorch Fundamentals"
      ],
      "metadata": {
        "id": "rkuzQo-gAzHh"
      }
    },
    {
      "cell_type": "code",
      "source": [
        "!nvidia-smi"
      ],
      "metadata": {
        "colab": {
          "base_uri": "https://localhost:8080/"
        },
        "id": "zWEFbI0WAzJ4",
        "outputId": "2aa3f3d0-55c4-4132-808b-fb56345c0d4e"
      },
      "execution_count": 1,
      "outputs": [
        {
          "output_type": "stream",
          "name": "stdout",
          "text": [
            "NVIDIA-SMI has failed because it couldn't communicate with the NVIDIA driver. Make sure that the latest NVIDIA driver is installed and running.\n",
            "\n"
          ]
        }
      ]
    },
    {
      "cell_type": "code",
      "source": [
        "import torch\n",
        "import numpy as np\n",
        "import pandas as pd\n",
        "import matplotlib.pyplot as plt\n",
        "import seaborn as sns "
      ],
      "metadata": {
        "id": "haNpQdMaAzMF"
      },
      "execution_count": 3,
      "outputs": []
    },
    {
      "cell_type": "code",
      "source": [
        "print(torch.__version__)"
      ],
      "metadata": {
        "id": "SakDKQXmAzPF",
        "colab": {
          "base_uri": "https://localhost:8080/"
        },
        "outputId": "a33c27bd-13e2-4572-e9e8-9243f40432ea"
      },
      "execution_count": 3,
      "outputs": [
        {
          "output_type": "stream",
          "name": "stdout",
          "text": [
            "1.12.0+cu113\n"
          ]
        }
      ]
    },
    {
      "cell_type": "markdown",
      "source": [
        "## Introduction to Tensors "
      ],
      "metadata": {
        "id": "QGHKeECWDIkF"
      }
    },
    {
      "cell_type": "markdown",
      "source": [
        "### Creating a Tensor"
      ],
      "metadata": {
        "id": "pa4XVh9BFknp"
      }
    },
    {
      "cell_type": "code",
      "source": [
        "# scalar \n",
        "scalar = torch.tensor(7)\n",
        "scalar"
      ],
      "metadata": {
        "colab": {
          "base_uri": "https://localhost:8080/"
        },
        "id": "91nmGpTxDQmP",
        "outputId": "cd47da63-7e1b-48f8-bb2d-02d13334dec8"
      },
      "execution_count": 4,
      "outputs": [
        {
          "output_type": "execute_result",
          "data": {
            "text/plain": [
              "tensor(7)"
            ]
          },
          "metadata": {},
          "execution_count": 4
        }
      ]
    },
    {
      "cell_type": "code",
      "source": [
        "scalar.ndim"
      ],
      "metadata": {
        "colab": {
          "base_uri": "https://localhost:8080/"
        },
        "id": "_iPU-bBSDhax",
        "outputId": "7cfbdd74-4dc7-4d27-b34f-a896b0bce85f"
      },
      "execution_count": 5,
      "outputs": [
        {
          "output_type": "execute_result",
          "data": {
            "text/plain": [
              "0"
            ]
          },
          "metadata": {},
          "execution_count": 5
        }
      ]
    },
    {
      "cell_type": "code",
      "source": [
        "scalar.item()"
      ],
      "metadata": {
        "colab": {
          "base_uri": "https://localhost:8080/"
        },
        "id": "ydZM0RbyDx_a",
        "outputId": "860ee063-5f22-49c7-b0cc-75722724b0d4"
      },
      "execution_count": 6,
      "outputs": [
        {
          "output_type": "execute_result",
          "data": {
            "text/plain": [
              "7"
            ]
          },
          "metadata": {},
          "execution_count": 6
        }
      ]
    },
    {
      "cell_type": "code",
      "source": [
        "# vector \n",
        "vector = torch.tensor([1,2,3])\n",
        "vector"
      ],
      "metadata": {
        "colab": {
          "base_uri": "https://localhost:8080/"
        },
        "id": "OkdJxcbOEG5Q",
        "outputId": "efe2e592-d01e-4322-e890-06718291002e"
      },
      "execution_count": 7,
      "outputs": [
        {
          "output_type": "execute_result",
          "data": {
            "text/plain": [
              "tensor([1, 2, 3])"
            ]
          },
          "metadata": {},
          "execution_count": 7
        }
      ]
    },
    {
      "cell_type": "code",
      "source": [
        "vector.ndim"
      ],
      "metadata": {
        "colab": {
          "base_uri": "https://localhost:8080/"
        },
        "id": "AzYemtE6EP6J",
        "outputId": "60c0fdea-d78b-4402-d84a-0b7dbaf22025"
      },
      "execution_count": 8,
      "outputs": [
        {
          "output_type": "execute_result",
          "data": {
            "text/plain": [
              "1"
            ]
          },
          "metadata": {},
          "execution_count": 8
        }
      ]
    },
    {
      "cell_type": "code",
      "source": [
        "vector.shape"
      ],
      "metadata": {
        "colab": {
          "base_uri": "https://localhost:8080/"
        },
        "id": "w71KczzDESVy",
        "outputId": "ac0f3762-6622-40e6-d3d2-d88f60d88c5e"
      },
      "execution_count": 9,
      "outputs": [
        {
          "output_type": "execute_result",
          "data": {
            "text/plain": [
              "torch.Size([3])"
            ]
          },
          "metadata": {},
          "execution_count": 9
        }
      ]
    },
    {
      "cell_type": "code",
      "source": [
        "# Matrix\n",
        "matrix = torch.tensor([[1,2,3],[4,5,6],[7,8,9]])\n",
        "matrix"
      ],
      "metadata": {
        "colab": {
          "base_uri": "https://localhost:8080/"
        },
        "id": "lujeg9cfEcp3",
        "outputId": "6f387280-a498-4f6c-8e42-e60a017bf12d"
      },
      "execution_count": 10,
      "outputs": [
        {
          "output_type": "execute_result",
          "data": {
            "text/plain": [
              "tensor([[1, 2, 3],\n",
              "        [4, 5, 6],\n",
              "        [7, 8, 9]])"
            ]
          },
          "metadata": {},
          "execution_count": 10
        }
      ]
    },
    {
      "cell_type": "code",
      "source": [
        "matrix.ndim"
      ],
      "metadata": {
        "colab": {
          "base_uri": "https://localhost:8080/"
        },
        "id": "778Gk8pqEnHN",
        "outputId": "8c82fa85-4820-4529-f05d-62e6a46f9bf3"
      },
      "execution_count": 11,
      "outputs": [
        {
          "output_type": "execute_result",
          "data": {
            "text/plain": [
              "2"
            ]
          },
          "metadata": {},
          "execution_count": 11
        }
      ]
    },
    {
      "cell_type": "code",
      "source": [
        "matrix.shape"
      ],
      "metadata": {
        "colab": {
          "base_uri": "https://localhost:8080/"
        },
        "id": "FLmLUzsEEouL",
        "outputId": "f2ed35af-2190-40f8-8f5c-6ee78a591d93"
      },
      "execution_count": 12,
      "outputs": [
        {
          "output_type": "execute_result",
          "data": {
            "text/plain": [
              "torch.Size([3, 3])"
            ]
          },
          "metadata": {},
          "execution_count": 12
        }
      ]
    },
    {
      "cell_type": "code",
      "source": [
        "np.array(matrix)"
      ],
      "metadata": {
        "colab": {
          "base_uri": "https://localhost:8080/"
        },
        "id": "pQ7OTJWcEqDC",
        "outputId": "9c50118a-4a5e-4f9c-cc78-d14f638810f9"
      },
      "execution_count": 13,
      "outputs": [
        {
          "output_type": "execute_result",
          "data": {
            "text/plain": [
              "array([[1, 2, 3],\n",
              "       [4, 5, 6],\n",
              "       [7, 8, 9]])"
            ]
          },
          "metadata": {},
          "execution_count": 13
        }
      ]
    },
    {
      "cell_type": "code",
      "source": [
        "matrix[0][2]"
      ],
      "metadata": {
        "colab": {
          "base_uri": "https://localhost:8080/"
        },
        "id": "JEvxm1WyEtpD",
        "outputId": "2cba58bd-2cfd-4166-9517-bd92a71e4fad"
      },
      "execution_count": 14,
      "outputs": [
        {
          "output_type": "execute_result",
          "data": {
            "text/plain": [
              "tensor(3)"
            ]
          },
          "metadata": {},
          "execution_count": 14
        }
      ]
    },
    {
      "cell_type": "markdown",
      "source": [
        "### Random Tensors "
      ],
      "metadata": {
        "id": "Rs9tO4rTFMNE"
      }
    },
    {
      "cell_type": "code",
      "source": [
        "torch.rand(3,3,3)"
      ],
      "metadata": {
        "colab": {
          "base_uri": "https://localhost:8080/"
        },
        "id": "RSJdrQtTFdf2",
        "outputId": "12b32a1b-573e-4299-a499-ebc0e967d02b"
      },
      "execution_count": 15,
      "outputs": [
        {
          "output_type": "execute_result",
          "data": {
            "text/plain": [
              "tensor([[[0.5655, 0.4806, 0.7799],\n",
              "         [0.1750, 0.8683, 0.2042],\n",
              "         [0.8157, 0.8796, 0.0240]],\n",
              "\n",
              "        [[0.7228, 0.6614, 0.5497],\n",
              "         [0.7401, 0.3001, 0.7622],\n",
              "         [0.8086, 0.7545, 0.6325]],\n",
              "\n",
              "        [[0.8487, 0.6524, 0.4696],\n",
              "         [0.3692, 0.2673, 0.8348],\n",
              "         [0.0092, 0.8195, 0.7283]]])"
            ]
          },
          "metadata": {},
          "execution_count": 15
        }
      ]
    },
    {
      "cell_type": "markdown",
      "source": [
        "### Zeros and Ones "
      ],
      "metadata": {
        "id": "dgF9hiTkGCQj"
      }
    },
    {
      "cell_type": "code",
      "source": [
        "torch.zeros(3,3)"
      ],
      "metadata": {
        "colab": {
          "base_uri": "https://localhost:8080/"
        },
        "id": "w2c8fmsWFtci",
        "outputId": "59f4ecca-b8a1-4832-ed14-bc0d98f3f9a6"
      },
      "execution_count": 16,
      "outputs": [
        {
          "output_type": "execute_result",
          "data": {
            "text/plain": [
              "tensor([[0., 0., 0.],\n",
              "        [0., 0., 0.],\n",
              "        [0., 0., 0.]])"
            ]
          },
          "metadata": {},
          "execution_count": 16
        }
      ]
    },
    {
      "cell_type": "code",
      "source": [
        "torch.ones(3,3)"
      ],
      "metadata": {
        "colab": {
          "base_uri": "https://localhost:8080/"
        },
        "id": "0UsIImXGGG-c",
        "outputId": "b7f54c44-bfd5-4b0b-df33-688f1a800d96"
      },
      "execution_count": 17,
      "outputs": [
        {
          "output_type": "execute_result",
          "data": {
            "text/plain": [
              "tensor([[1., 1., 1.],\n",
              "        [1., 1., 1.],\n",
              "        [1., 1., 1.]])"
            ]
          },
          "metadata": {},
          "execution_count": 17
        }
      ]
    },
    {
      "cell_type": "code",
      "source": [
        "torch.eye(4,4)"
      ],
      "metadata": {
        "colab": {
          "base_uri": "https://localhost:8080/"
        },
        "id": "SacN4IYuGML6",
        "outputId": "976a2dbb-a5f4-4612-970b-18f197af1ffc"
      },
      "execution_count": 18,
      "outputs": [
        {
          "output_type": "execute_result",
          "data": {
            "text/plain": [
              "tensor([[1., 0., 0., 0.],\n",
              "        [0., 1., 0., 0.],\n",
              "        [0., 0., 1., 0.],\n",
              "        [0., 0., 0., 1.]])"
            ]
          },
          "metadata": {},
          "execution_count": 18
        }
      ]
    },
    {
      "cell_type": "markdown",
      "source": [
        "### Creating a tensor with range  "
      ],
      "metadata": {
        "id": "tRcKearnGPb7"
      }
    },
    {
      "cell_type": "code",
      "source": [
        "Range_tensor = torch.arange(0,9)\n",
        "Range_tensor_reshaped = Range_tensor.reshape(3,3)"
      ],
      "metadata": {
        "id": "Ah3Erl1eGloF"
      },
      "execution_count": 19,
      "outputs": []
    },
    {
      "cell_type": "code",
      "source": [
        "zeor_like = torch.zeros_like(Range_tensor_reshaped)\n",
        "zeor_like"
      ],
      "metadata": {
        "colab": {
          "base_uri": "https://localhost:8080/"
        },
        "id": "MZByC8nRGpQI",
        "outputId": "c9a5c629-227b-42dd-ea97-8f8405629762"
      },
      "execution_count": 20,
      "outputs": [
        {
          "output_type": "execute_result",
          "data": {
            "text/plain": [
              "tensor([[0, 0, 0],\n",
              "        [0, 0, 0],\n",
              "        [0, 0, 0]])"
            ]
          },
          "metadata": {},
          "execution_count": 20
        }
      ]
    },
    {
      "cell_type": "code",
      "source": [
        "zeor_like + 1"
      ],
      "metadata": {
        "colab": {
          "base_uri": "https://localhost:8080/"
        },
        "id": "ipStTTRXHUG-",
        "outputId": "0d3856d6-36d4-49a2-bd37-6f4ec637bc34"
      },
      "execution_count": 21,
      "outputs": [
        {
          "output_type": "execute_result",
          "data": {
            "text/plain": [
              "tensor([[1, 1, 1],\n",
              "        [1, 1, 1],\n",
              "        [1, 1, 1]])"
            ]
          },
          "metadata": {},
          "execution_count": 21
        }
      ]
    },
    {
      "cell_type": "markdown",
      "source": [
        "## Tensor Operations "
      ],
      "metadata": {
        "id": "3C3hCccTHdyy"
      }
    },
    {
      "cell_type": "markdown",
      "source": [
        "### Mathematic Operation "
      ],
      "metadata": {
        "id": "UvxnAsC0JEmY"
      }
    },
    {
      "cell_type": "code",
      "source": [
        "# Include basic mathematical operation \n",
        "# Includes matrix operations "
      ],
      "metadata": {
        "id": "lixqzlyRIbKu"
      },
      "execution_count": 22,
      "outputs": []
    },
    {
      "cell_type": "code",
      "source": [
        "matrix + 3"
      ],
      "metadata": {
        "colab": {
          "base_uri": "https://localhost:8080/"
        },
        "id": "qX71ikO0ImIL",
        "outputId": "b1e0c08e-9504-4e93-a8be-474e69605b50"
      },
      "execution_count": 23,
      "outputs": [
        {
          "output_type": "execute_result",
          "data": {
            "text/plain": [
              "tensor([[ 4,  5,  6],\n",
              "        [ 7,  8,  9],\n",
              "        [10, 11, 12]])"
            ]
          },
          "metadata": {},
          "execution_count": 23
        }
      ]
    },
    {
      "cell_type": "code",
      "source": [
        "matrix -3"
      ],
      "metadata": {
        "colab": {
          "base_uri": "https://localhost:8080/"
        },
        "id": "ZI4SXLYSIuEi",
        "outputId": "03e89c3b-d93f-43bf-9d17-24d966559fd6"
      },
      "execution_count": 24,
      "outputs": [
        {
          "output_type": "execute_result",
          "data": {
            "text/plain": [
              "tensor([[-2, -1,  0],\n",
              "        [ 1,  2,  3],\n",
              "        [ 4,  5,  6]])"
            ]
          },
          "metadata": {},
          "execution_count": 24
        }
      ]
    },
    {
      "cell_type": "code",
      "source": [
        "matrix * 0.5"
      ],
      "metadata": {
        "colab": {
          "base_uri": "https://localhost:8080/"
        },
        "id": "KDc83R0GIvhK",
        "outputId": "df78ecbb-e8dd-464b-c85c-e9b1ada78eab"
      },
      "execution_count": 25,
      "outputs": [
        {
          "output_type": "execute_result",
          "data": {
            "text/plain": [
              "tensor([[0.5000, 1.0000, 1.5000],\n",
              "        [2.0000, 2.5000, 3.0000],\n",
              "        [3.5000, 4.0000, 4.5000]])"
            ]
          },
          "metadata": {},
          "execution_count": 25
        }
      ]
    },
    {
      "cell_type": "code",
      "source": [
        "matrix/3"
      ],
      "metadata": {
        "colab": {
          "base_uri": "https://localhost:8080/"
        },
        "id": "s8bB703bIxZD",
        "outputId": "529570bb-c0ad-4be9-a77c-eec650b9e923"
      },
      "execution_count": 26,
      "outputs": [
        {
          "output_type": "execute_result",
          "data": {
            "text/plain": [
              "tensor([[0.3333, 0.6667, 1.0000],\n",
              "        [1.3333, 1.6667, 2.0000],\n",
              "        [2.3333, 2.6667, 3.0000]])"
            ]
          },
          "metadata": {},
          "execution_count": 26
        }
      ]
    },
    {
      "cell_type": "code",
      "source": [
        "matrix + vector "
      ],
      "metadata": {
        "colab": {
          "base_uri": "https://localhost:8080/"
        },
        "id": "5RJTlOK1I0zm",
        "outputId": "8c6dc049-4eb6-4f52-8a79-74a52ababeea"
      },
      "execution_count": 27,
      "outputs": [
        {
          "output_type": "execute_result",
          "data": {
            "text/plain": [
              "tensor([[ 2,  4,  6],\n",
              "        [ 5,  7,  9],\n",
              "        [ 8, 10, 12]])"
            ]
          },
          "metadata": {},
          "execution_count": 27
        }
      ]
    },
    {
      "cell_type": "markdown",
      "source": [
        "### Matrix Operation "
      ],
      "metadata": {
        "id": "jSwdubipJJMZ"
      }
    },
    {
      "cell_type": "code",
      "source": [
        "# Element wise Multiplication \n",
        "m1 = torch.arange(0,9).reshape(3,3)\n",
        "m2 = torch.arange(9,18).reshape(3,3)\n",
        "m1 * m2"
      ],
      "metadata": {
        "colab": {
          "base_uri": "https://localhost:8080/"
        },
        "id": "TtEnn1AMI3-S",
        "outputId": "ebcef5cb-c235-40db-d144-d2bd494f6b40"
      },
      "execution_count": 28,
      "outputs": [
        {
          "output_type": "execute_result",
          "data": {
            "text/plain": [
              "tensor([[  0,  10,  22],\n",
              "        [ 36,  52,  70],\n",
              "        [ 90, 112, 136]])"
            ]
          },
          "metadata": {},
          "execution_count": 28
        }
      ]
    },
    {
      "cell_type": "code",
      "source": [
        "# Dot product \n",
        "torch.matmul(m1,m2)"
      ],
      "metadata": {
        "colab": {
          "base_uri": "https://localhost:8080/"
        },
        "id": "HtaNYOErJlRJ",
        "outputId": "bea4cf79-7187-4f24-8692-df90a256f495"
      },
      "execution_count": 29,
      "outputs": [
        {
          "output_type": "execute_result",
          "data": {
            "text/plain": [
              "tensor([[ 42,  45,  48],\n",
              "        [150, 162, 174],\n",
              "        [258, 279, 300]])"
            ]
          },
          "metadata": {},
          "execution_count": 29
        }
      ]
    },
    {
      "cell_type": "code",
      "source": [
        "# Dot Product with numpy \n",
        "np.dot(np.array(m1),np.array(m2))"
      ],
      "metadata": {
        "colab": {
          "base_uri": "https://localhost:8080/"
        },
        "id": "GwEk-v7DJsgn",
        "outputId": "b870c16a-44fa-4fd9-b5fc-701a6533cb43"
      },
      "execution_count": 30,
      "outputs": [
        {
          "output_type": "execute_result",
          "data": {
            "text/plain": [
              "array([[ 42,  45,  48],\n",
              "       [150, 162, 174],\n",
              "       [258, 279, 300]])"
            ]
          },
          "metadata": {},
          "execution_count": 30
        }
      ]
    },
    {
      "cell_type": "code",
      "source": [
        "# Trying with Transpose \n",
        "torch.matmul(m1,m2.T)"
      ],
      "metadata": {
        "colab": {
          "base_uri": "https://localhost:8080/"
        },
        "id": "owp5_A7IJ1T5",
        "outputId": "9391ebdb-fd9a-4b1a-dd16-c51169b9bcb7"
      },
      "execution_count": 31,
      "outputs": [
        {
          "output_type": "execute_result",
          "data": {
            "text/plain": [
              "tensor([[ 32,  41,  50],\n",
              "        [122, 158, 194],\n",
              "        [212, 275, 338]])"
            ]
          },
          "metadata": {},
          "execution_count": 31
        }
      ]
    },
    {
      "cell_type": "code",
      "source": [
        ""
      ],
      "metadata": {
        "id": "mVQJkFHDKlYJ"
      },
      "execution_count": 31,
      "outputs": []
    },
    {
      "cell_type": "markdown",
      "source": [
        "## Tensor Aggregation \n",
        "#### Going from large numbers to small numbers "
      ],
      "metadata": {
        "id": "RbfA4SBCKlw2"
      }
    },
    {
      "cell_type": "markdown",
      "source": [
        "### Basic "
      ],
      "metadata": {
        "id": "rVziktptLr3P"
      }
    },
    {
      "cell_type": "code",
      "source": [
        "m2"
      ],
      "metadata": {
        "colab": {
          "base_uri": "https://localhost:8080/"
        },
        "id": "uSwwNTxhKWc_",
        "outputId": "14e0a68b-8a7d-4d12-fe4e-37fa53c2ace4"
      },
      "execution_count": 32,
      "outputs": [
        {
          "output_type": "execute_result",
          "data": {
            "text/plain": [
              "tensor([[ 9, 10, 11],\n",
              "        [12, 13, 14],\n",
              "        [15, 16, 17]])"
            ]
          },
          "metadata": {},
          "execution_count": 32
        }
      ]
    },
    {
      "cell_type": "code",
      "source": [
        "m2.min()"
      ],
      "metadata": {
        "colab": {
          "base_uri": "https://localhost:8080/"
        },
        "id": "e9gGs0V4Kz5O",
        "outputId": "54f6d73b-b7b3-4224-caa2-4e34bfa47e64"
      },
      "execution_count": 33,
      "outputs": [
        {
          "output_type": "execute_result",
          "data": {
            "text/plain": [
              "tensor(9)"
            ]
          },
          "metadata": {},
          "execution_count": 33
        }
      ]
    },
    {
      "cell_type": "code",
      "source": [
        "m2.max()"
      ],
      "metadata": {
        "colab": {
          "base_uri": "https://localhost:8080/"
        },
        "id": "mWn0yREeK1WN",
        "outputId": "c2088c08-1ad1-431e-fce2-e4dd78771061"
      },
      "execution_count": 34,
      "outputs": [
        {
          "output_type": "execute_result",
          "data": {
            "text/plain": [
              "tensor(17)"
            ]
          },
          "metadata": {},
          "execution_count": 34
        }
      ]
    },
    {
      "cell_type": "markdown",
      "source": [
        "### Statiscal"
      ],
      "metadata": {
        "id": "NaLycl53LuNF"
      }
    },
    {
      "cell_type": "code",
      "source": [
        "torch.mean(m2.type(torch.float32))"
      ],
      "metadata": {
        "colab": {
          "base_uri": "https://localhost:8080/"
        },
        "id": "G7adwQeGK3wL",
        "outputId": "5d02cd6e-e807-4462-9c6b-fc5974931033"
      },
      "execution_count": 35,
      "outputs": [
        {
          "output_type": "execute_result",
          "data": {
            "text/plain": [
              "tensor(13.)"
            ]
          },
          "metadata": {},
          "execution_count": 35
        }
      ]
    },
    {
      "cell_type": "code",
      "source": [
        "m1.sum()"
      ],
      "metadata": {
        "colab": {
          "base_uri": "https://localhost:8080/"
        },
        "id": "0sPVgOTgLKvs",
        "outputId": "1c0e59d3-7457-4a27-ee3b-c53652c77cd9"
      },
      "execution_count": 36,
      "outputs": [
        {
          "output_type": "execute_result",
          "data": {
            "text/plain": [
              "tensor(36)"
            ]
          },
          "metadata": {},
          "execution_count": 36
        }
      ]
    },
    {
      "cell_type": "markdown",
      "source": [
        "### Complex"
      ],
      "metadata": {
        "id": "YVB3UuyULgyS"
      }
    },
    {
      "cell_type": "code",
      "source": [
        "m1.argmin()"
      ],
      "metadata": {
        "colab": {
          "base_uri": "https://localhost:8080/"
        },
        "id": "q6wqSvhXL2wI",
        "outputId": "7687ad00-0968-4d42-c4ec-72df3c6e9031"
      },
      "execution_count": 37,
      "outputs": [
        {
          "output_type": "execute_result",
          "data": {
            "text/plain": [
              "tensor(0)"
            ]
          },
          "metadata": {},
          "execution_count": 37
        }
      ]
    },
    {
      "cell_type": "code",
      "source": [
        "m2.argmax()"
      ],
      "metadata": {
        "colab": {
          "base_uri": "https://localhost:8080/"
        },
        "id": "Leerua_mL8M4",
        "outputId": "53de9573-792f-49cc-f21e-f852ee8c0e94"
      },
      "execution_count": 38,
      "outputs": [
        {
          "output_type": "execute_result",
          "data": {
            "text/plain": [
              "tensor(8)"
            ]
          },
          "metadata": {},
          "execution_count": 38
        }
      ]
    },
    {
      "cell_type": "markdown",
      "source": [
        "## Tensor Modification \n",
        "\n",
        "* torch.reshape(input, shape)\tReshapes input to shape (if compatible), can also use torch.Tensor.reshape().\n",
        "* torch.Tensor.view(shape)\tReturns a view of the original tensor in a different shape but shares the same data as the original tensor.\n",
        "* torch.stack(tensors, dim=0)\tConcatenates a sequence of tensors along a new dimension (dim), all tensors must be same size.\n",
        "* torch.squeeze(input)\tSqueezes input to remove all the dimenions with value 1.\n",
        "* torch.unsqueeze(input, dim)\tReturns input with a dimension value of 1 added at dim.\n",
        "* torch.permute(input, dims)\tReturns a view of the original input with its dimensions permuted (rearranged) to dims."
      ],
      "metadata": {
        "id": "H_jFGffxL-iB"
      }
    },
    {
      "cell_type": "markdown",
      "source": [
        "### Reshaping "
      ],
      "metadata": {
        "id": "_eBNgcGNMYLP"
      }
    },
    {
      "cell_type": "code",
      "source": [
        "m1 = m1.reshape(1,9)\n",
        "m1"
      ],
      "metadata": {
        "colab": {
          "base_uri": "https://localhost:8080/"
        },
        "id": "XiFIEuxYMcLX",
        "outputId": "793d5c81-68c7-4f69-f42f-fb7bb5fb946b"
      },
      "execution_count": 39,
      "outputs": [
        {
          "output_type": "execute_result",
          "data": {
            "text/plain": [
              "tensor([[0, 1, 2, 3, 4, 5, 6, 7, 8]])"
            ]
          },
          "metadata": {},
          "execution_count": 39
        }
      ]
    },
    {
      "cell_type": "code",
      "source": [
        "m2.reshape(-1,1)"
      ],
      "metadata": {
        "colab": {
          "base_uri": "https://localhost:8080/"
        },
        "id": "kITYgx1tMcN0",
        "outputId": "98156923-7bcc-4a78-8787-1d2a5550a76f"
      },
      "execution_count": 40,
      "outputs": [
        {
          "output_type": "execute_result",
          "data": {
            "text/plain": [
              "tensor([[ 9],\n",
              "        [10],\n",
              "        [11],\n",
              "        [12],\n",
              "        [13],\n",
              "        [14],\n",
              "        [15],\n",
              "        [16],\n",
              "        [17]])"
            ]
          },
          "metadata": {},
          "execution_count": 40
        }
      ]
    },
    {
      "cell_type": "code",
      "source": [
        "m2.reshape(1,-1)"
      ],
      "metadata": {
        "colab": {
          "base_uri": "https://localhost:8080/"
        },
        "id": "1okILQJYMoXg",
        "outputId": "8cd8f283-1ef7-4023-a608-f0b01ae081a8"
      },
      "execution_count": 41,
      "outputs": [
        {
          "output_type": "execute_result",
          "data": {
            "text/plain": [
              "tensor([[ 9, 10, 11, 12, 13, 14, 15, 16, 17]])"
            ]
          },
          "metadata": {},
          "execution_count": 41
        }
      ]
    },
    {
      "cell_type": "code",
      "source": [
        "m1 = torch.rand((3,3,3))\n",
        "m1"
      ],
      "metadata": {
        "id": "FIjhi764Mrpu",
        "colab": {
          "base_uri": "https://localhost:8080/"
        },
        "outputId": "246934cb-4c25-48ca-ac85-260b67f4205e"
      },
      "execution_count": 49,
      "outputs": [
        {
          "output_type": "execute_result",
          "data": {
            "text/plain": [
              "tensor([[[0.4445, 0.9103, 0.4318],\n",
              "         [0.8219, 0.2291, 0.9785],\n",
              "         [0.6859, 0.9006, 0.7585]],\n",
              "\n",
              "        [[0.5682, 0.7862, 0.7956],\n",
              "         [0.5895, 0.7222, 0.1533],\n",
              "         [0.0013, 0.5784, 0.7196]],\n",
              "\n",
              "        [[0.9178, 0.8844, 0.5941],\n",
              "         [0.1607, 0.0663, 0.9621],\n",
              "         [0.7255, 0.5428, 0.3135]]])"
            ]
          },
          "metadata": {},
          "execution_count": 49
        }
      ]
    },
    {
      "cell_type": "code",
      "source": [
        "m = m1.reshape((9,1,-1))\n",
        "m"
      ],
      "metadata": {
        "colab": {
          "base_uri": "https://localhost:8080/"
        },
        "id": "HlUQDSRoxBBr",
        "outputId": "e27b0f2b-18fd-49e2-ec46-d0e3c003bc6b"
      },
      "execution_count": 54,
      "outputs": [
        {
          "output_type": "execute_result",
          "data": {
            "text/plain": [
              "tensor([[[0.4445, 0.9103, 0.4318]],\n",
              "\n",
              "        [[0.8219, 0.2291, 0.9785]],\n",
              "\n",
              "        [[0.6859, 0.9006, 0.7585]],\n",
              "\n",
              "        [[0.5682, 0.7862, 0.7956]],\n",
              "\n",
              "        [[0.5895, 0.7222, 0.1533]],\n",
              "\n",
              "        [[0.0013, 0.5784, 0.7196]],\n",
              "\n",
              "        [[0.9178, 0.8844, 0.5941]],\n",
              "\n",
              "        [[0.1607, 0.0663, 0.9621]],\n",
              "\n",
              "        [[0.7255, 0.5428, 0.3135]]])"
            ]
          },
          "metadata": {},
          "execution_count": 54
        }
      ]
    },
    {
      "cell_type": "markdown",
      "source": [
        "### Veiwing "
      ],
      "metadata": {
        "id": "tepUd-FMxmNQ"
      }
    },
    {
      "cell_type": "code",
      "source": [
        "z = m1.view((9,1,-1))\n",
        "z"
      ],
      "metadata": {
        "colab": {
          "base_uri": "https://localhost:8080/"
        },
        "id": "6BfPgqrByDWj",
        "outputId": "3d001c11-4296-439b-fa01-d20cdd8479c9"
      },
      "execution_count": 55,
      "outputs": [
        {
          "output_type": "execute_result",
          "data": {
            "text/plain": [
              "tensor([[[0.4445, 0.9103, 0.4318]],\n",
              "\n",
              "        [[0.8219, 0.2291, 0.9785]],\n",
              "\n",
              "        [[0.6859, 0.9006, 0.7585]],\n",
              "\n",
              "        [[0.5682, 0.7862, 0.7956]],\n",
              "\n",
              "        [[0.5895, 0.7222, 0.1533]],\n",
              "\n",
              "        [[0.0013, 0.5784, 0.7196]],\n",
              "\n",
              "        [[0.9178, 0.8844, 0.5941]],\n",
              "\n",
              "        [[0.1607, 0.0663, 0.9621]],\n",
              "\n",
              "        [[0.7255, 0.5428, 0.3135]]])"
            ]
          },
          "metadata": {},
          "execution_count": 55
        }
      ]
    },
    {
      "cell_type": "code",
      "source": [
        "id(z) , id(m1)"
      ],
      "metadata": {
        "colab": {
          "base_uri": "https://localhost:8080/"
        },
        "id": "aPDyAzudyQG6",
        "outputId": "8256fa4c-3850-4303-c178-ba99a901caf8"
      },
      "execution_count": 58,
      "outputs": [
        {
          "output_type": "execute_result",
          "data": {
            "text/plain": [
              "(140059727191408, 140059727079568)"
            ]
          },
          "metadata": {},
          "execution_count": 58
        }
      ]
    },
    {
      "cell_type": "markdown",
      "source": [
        "### Stack"
      ],
      "metadata": {
        "id": "QHETzBYFyS6s"
      }
    },
    {
      "cell_type": "code",
      "source": [
        "m3 = torch.stack([m1,m1,m1])\n",
        "m3"
      ],
      "metadata": {
        "colab": {
          "base_uri": "https://localhost:8080/"
        },
        "id": "nIQpq0Btyhpn",
        "outputId": "8660e167-a51f-44bf-c347-bdbe87740be8"
      },
      "execution_count": 63,
      "outputs": [
        {
          "output_type": "execute_result",
          "data": {
            "text/plain": [
              "tensor([[[[0.4445, 0.9103, 0.4318],\n",
              "          [0.8219, 0.2291, 0.9785],\n",
              "          [0.6859, 0.9006, 0.7585]],\n",
              "\n",
              "         [[0.5682, 0.7862, 0.7956],\n",
              "          [0.5895, 0.7222, 0.1533],\n",
              "          [0.0013, 0.5784, 0.7196]],\n",
              "\n",
              "         [[0.9178, 0.8844, 0.5941],\n",
              "          [0.1607, 0.0663, 0.9621],\n",
              "          [0.7255, 0.5428, 0.3135]]],\n",
              "\n",
              "\n",
              "        [[[0.4445, 0.9103, 0.4318],\n",
              "          [0.8219, 0.2291, 0.9785],\n",
              "          [0.6859, 0.9006, 0.7585]],\n",
              "\n",
              "         [[0.5682, 0.7862, 0.7956],\n",
              "          [0.5895, 0.7222, 0.1533],\n",
              "          [0.0013, 0.5784, 0.7196]],\n",
              "\n",
              "         [[0.9178, 0.8844, 0.5941],\n",
              "          [0.1607, 0.0663, 0.9621],\n",
              "          [0.7255, 0.5428, 0.3135]]],\n",
              "\n",
              "\n",
              "        [[[0.4445, 0.9103, 0.4318],\n",
              "          [0.8219, 0.2291, 0.9785],\n",
              "          [0.6859, 0.9006, 0.7585]],\n",
              "\n",
              "         [[0.5682, 0.7862, 0.7956],\n",
              "          [0.5895, 0.7222, 0.1533],\n",
              "          [0.0013, 0.5784, 0.7196]],\n",
              "\n",
              "         [[0.9178, 0.8844, 0.5941],\n",
              "          [0.1607, 0.0663, 0.9621],\n",
              "          [0.7255, 0.5428, 0.3135]]]])"
            ]
          },
          "metadata": {},
          "execution_count": 63
        }
      ]
    },
    {
      "cell_type": "markdown",
      "source": [
        "### Squeeze and Unsqueeze\""
      ],
      "metadata": {
        "id": "Xl2C-pGA0Y6m"
      }
    },
    {
      "cell_type": "code",
      "source": [
        "m4 = torch.squeeze(m3)\n",
        "m4.shape , m3.shape"
      ],
      "metadata": {
        "colab": {
          "base_uri": "https://localhost:8080/"
        },
        "id": "SzhYLXyqzARs",
        "outputId": "656af4ec-8cd4-4f34-bac3-f8e8371273da"
      },
      "execution_count": 66,
      "outputs": [
        {
          "output_type": "execute_result",
          "data": {
            "text/plain": [
              "(torch.Size([3, 3, 3, 3]), torch.Size([3, 3, 3, 3]))"
            ]
          },
          "metadata": {},
          "execution_count": 66
        }
      ]
    },
    {
      "cell_type": "code",
      "source": [
        "m5 = torch.unsqueeze(m3 , dim=0)\n",
        "m5.shape ,  m3.shape\n"
      ],
      "metadata": {
        "colab": {
          "base_uri": "https://localhost:8080/"
        },
        "id": "ZWtQcwRqzJDG",
        "outputId": "fcb02ba9-bb1a-4c06-b80e-ea49ea91ff07"
      },
      "execution_count": 69,
      "outputs": [
        {
          "output_type": "execute_result",
          "data": {
            "text/plain": [
              "(torch.Size([1, 3, 3, 3, 3]), torch.Size([3, 3, 3, 3]))"
            ]
          },
          "metadata": {},
          "execution_count": 69
        }
      ]
    },
    {
      "cell_type": "code",
      "source": [
        "m5.squeeze(dim=0).shape"
      ],
      "metadata": {
        "colab": {
          "base_uri": "https://localhost:8080/"
        },
        "id": "JojGGxhQzcYW",
        "outputId": "51ad918f-197f-4fcf-f663-d6e3b3e1eccb"
      },
      "execution_count": 70,
      "outputs": [
        {
          "output_type": "execute_result",
          "data": {
            "text/plain": [
              "torch.Size([3, 3, 3, 3])"
            ]
          },
          "metadata": {},
          "execution_count": 70
        }
      ]
    },
    {
      "cell_type": "markdown",
      "source": [
        "### Permute"
      ],
      "metadata": {
        "id": "ai8U1l6j0lXo"
      }
    },
    {
      "cell_type": "code",
      "source": [
        "x = torch.randn([2,3,5])\n",
        "x"
      ],
      "metadata": {
        "colab": {
          "base_uri": "https://localhost:8080/"
        },
        "id": "hdjqoKX80Ard",
        "outputId": "19f9f73b-bb14-4ba3-b562-8b3af4178502"
      },
      "execution_count": 71,
      "outputs": [
        {
          "output_type": "execute_result",
          "data": {
            "text/plain": [
              "tensor([[[-0.2387,  0.2204, -0.4703, -2.0404, -0.6319],\n",
              "         [-0.3656, -0.0516,  0.5089,  0.7568,  0.7447],\n",
              "         [-1.6842, -0.6953,  0.8829,  0.5567,  0.1290]],\n",
              "\n",
              "        [[ 1.5970,  0.0440,  0.9737, -0.0482,  0.6393],\n",
              "         [-0.7698, -0.3682,  2.1356, -0.3460,  0.5496],\n",
              "         [ 1.8261,  0.3136,  0.5044,  0.6704, -0.5754]]])"
            ]
          },
          "metadata": {},
          "execution_count": 71
        }
      ]
    },
    {
      "cell_type": "code",
      "source": [
        "x.permute(2,0,1) , x.permute(2,0,1).shape"
      ],
      "metadata": {
        "colab": {
          "base_uri": "https://localhost:8080/"
        },
        "id": "bLnC-gsG0wv4",
        "outputId": "0c683092-e0bc-4bb6-9fad-edcd53bab371"
      },
      "execution_count": 72,
      "outputs": [
        {
          "output_type": "execute_result",
          "data": {
            "text/plain": [
              "(tensor([[[-0.2387, -0.3656, -1.6842],\n",
              "          [ 1.5970, -0.7698,  1.8261]],\n",
              " \n",
              "         [[ 0.2204, -0.0516, -0.6953],\n",
              "          [ 0.0440, -0.3682,  0.3136]],\n",
              " \n",
              "         [[-0.4703,  0.5089,  0.8829],\n",
              "          [ 0.9737,  2.1356,  0.5044]],\n",
              " \n",
              "         [[-2.0404,  0.7568,  0.5567],\n",
              "          [-0.0482, -0.3460,  0.6704]],\n",
              " \n",
              "         [[-0.6319,  0.7447,  0.1290],\n",
              "          [ 0.6393,  0.5496, -0.5754]]]), torch.Size([5, 2, 3]))"
            ]
          },
          "metadata": {},
          "execution_count": 72
        }
      ]
    },
    {
      "cell_type": "markdown",
      "source": [
        "## GPU Specs "
      ],
      "metadata": {
        "id": "bo3zTZ2LFCUU"
      }
    },
    {
      "cell_type": "code",
      "source": [
        "!nvidia-smi"
      ],
      "metadata": {
        "colab": {
          "base_uri": "https://localhost:8080/"
        },
        "id": "kCQ2Xx-A08F1",
        "outputId": "8a39e4e1-996f-4b90-9d57-9f76dbeed495"
      },
      "execution_count": 1,
      "outputs": [
        {
          "output_type": "stream",
          "name": "stdout",
          "text": [
            "Fri Jul 29 08:21:26 2022       \n",
            "+-----------------------------------------------------------------------------+\n",
            "| NVIDIA-SMI 460.32.03    Driver Version: 460.32.03    CUDA Version: 11.2     |\n",
            "|-------------------------------+----------------------+----------------------+\n",
            "| GPU  Name        Persistence-M| Bus-Id        Disp.A | Volatile Uncorr. ECC |\n",
            "| Fan  Temp  Perf  Pwr:Usage/Cap|         Memory-Usage | GPU-Util  Compute M. |\n",
            "|                               |                      |               MIG M. |\n",
            "|===============================+======================+======================|\n",
            "|   0  Tesla T4            Off  | 00000000:00:04.0 Off |                    0 |\n",
            "| N/A   54C    P8     9W /  70W |      0MiB / 15109MiB |      0%      Default |\n",
            "|                               |                      |                  N/A |\n",
            "+-------------------------------+----------------------+----------------------+\n",
            "                                                                               \n",
            "+-----------------------------------------------------------------------------+\n",
            "| Processes:                                                                  |\n",
            "|  GPU   GI   CI        PID   Type   Process name                  GPU Memory |\n",
            "|        ID   ID                                                   Usage      |\n",
            "|=============================================================================|\n",
            "|  No running processes found                                                 |\n",
            "+-----------------------------------------------------------------------------+\n"
          ]
        }
      ]
    },
    {
      "cell_type": "code",
      "source": [
        "torch.cuda.device_count()"
      ],
      "metadata": {
        "colab": {
          "base_uri": "https://localhost:8080/"
        },
        "id": "AcGwWrSdDOf_",
        "outputId": "d4b4c469-b447-4de8-cf25-15249344debb"
      },
      "execution_count": 3,
      "outputs": [
        {
          "output_type": "execute_result",
          "data": {
            "text/plain": [
              "1"
            ]
          },
          "metadata": {},
          "execution_count": 3
        }
      ]
    },
    {
      "cell_type": "code",
      "source": [
        "device = 'cuda' if torch.has_cuda else 'cpu'\n",
        "device"
      ],
      "metadata": {
        "colab": {
          "base_uri": "https://localhost:8080/",
          "height": 36
        },
        "id": "DUTZ8rn_D7hc",
        "outputId": "61d9aefc-a556-4b82-e9c6-bdd250b69f85"
      },
      "execution_count": 6,
      "outputs": [
        {
          "output_type": "execute_result",
          "data": {
            "text/plain": [
              "'cuda'"
            ],
            "application/vnd.google.colaboratory.intrinsic+json": {
              "type": "string"
            }
          },
          "metadata": {},
          "execution_count": 6
        }
      ]
    },
    {
      "cell_type": "code",
      "source": [
        ""
      ],
      "metadata": {
        "id": "ZVkZigFyFNCY"
      },
      "execution_count": null,
      "outputs": []
    }
  ]
}